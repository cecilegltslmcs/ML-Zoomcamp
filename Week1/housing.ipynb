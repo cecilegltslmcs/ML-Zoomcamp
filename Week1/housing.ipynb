{
 "cells": [
  {
   "cell_type": "code",
   "execution_count": 1,
   "metadata": {},
   "outputs": [],
   "source": [
    "import pandas as pd\n",
    "import numpy as np\n",
    "import gc"
   ]
  },
  {
   "cell_type": "code",
   "execution_count": 2,
   "metadata": {},
   "outputs": [
    {
     "name": "stdout",
     "output_type": "stream",
     "text": [
      "Pandas version is: 2.0.3\n"
     ]
    }
   ],
   "source": [
    "print(f\"Pandas version is: {pd.__version__}\")"
   ]
  },
  {
   "cell_type": "code",
   "execution_count": 3,
   "metadata": {},
   "outputs": [],
   "source": [
    "URL = \"https://raw.githubusercontent.com/alexeygrigorev/datasets/master/housing.csv\""
   ]
  },
  {
   "cell_type": "code",
   "execution_count": 4,
   "metadata": {},
   "outputs": [
    {
     "name": "stdout",
     "output_type": "stream",
     "text": [
      " Shape of the data (columns, rows) : (20640, 10)\n"
     ]
    }
   ],
   "source": [
    "data = pd.read_csv(URL)\n",
    "print(f\" Shape of the data (columns, rows) : {data.shape}\")"
   ]
  },
  {
   "cell_type": "code",
   "execution_count": 5,
   "metadata": {},
   "outputs": [
    {
     "name": "stdout",
     "output_type": "stream",
     "text": [
      "Missing values:\n",
      "longitude               0\n",
      "latitude                0\n",
      "housing_median_age      0\n",
      "total_rooms             0\n",
      "total_bedrooms        207\n",
      "population              0\n",
      "households              0\n",
      "median_income           0\n",
      "median_house_value      0\n",
      "ocean_proximity         0\n",
      "dtype: int64\n"
     ]
    }
   ],
   "source": [
    "print(f\"Missing values:\\n{data.isna().sum()}\")"
   ]
  },
  {
   "cell_type": "code",
   "execution_count": 6,
   "metadata": {},
   "outputs": [
    {
     "name": "stdout",
     "output_type": "stream",
     "text": [
      "Number of uniques values in 'ocean_proximity': 5;\n",
      "Values in ocean_proximity: ['NEAR BAY' '<1H OCEAN' 'INLAND' 'NEAR OCEAN' 'ISLAND']\n"
     ]
    }
   ],
   "source": [
    "print(f\"Number of uniques values in 'ocean_proximity': {data['ocean_proximity'].nunique()};\\nValues in ocean_proximity: {data['ocean_proximity'].unique()}\")"
   ]
  },
  {
   "cell_type": "code",
   "execution_count": 16,
   "metadata": {},
   "outputs": [
    {
     "name": "stdout",
     "output_type": "stream",
     "text": [
      "Average value of 'median_house_value': 259212.312\n"
     ]
    }
   ],
   "source": [
    "average_value = data[\"median_house_value\"][data[\"ocean_proximity\"] == 'NEAR BAY'].mean()\n",
    "print(f\"Average value of 'median_house_value': {round(average_value, 3)}\")"
   ]
  },
  {
   "cell_type": "code",
   "execution_count": 8,
   "metadata": {},
   "outputs": [
    {
     "name": "stdout",
     "output_type": "stream",
     "text": [
      "Average value of 'median_house_value': 259212.312\n"
     ]
    }
   ],
   "source": [
    "df = data.copy()\n",
    "df.fillna(259212)\n",
    "\n",
    "average_value_without_missing_value = df[\"median_house_value\"][df[\"ocean_proximity\"] == 'NEAR BAY'].mean()\n",
    "print(f\"Average value of 'median_house_value': {round(average_value_without_missing_value, 3)}\")"
   ]
  },
  {
   "cell_type": "code",
   "execution_count": 9,
   "metadata": {},
   "outputs": [
    {
     "data": {
      "text/plain": [
       "0"
      ]
     },
     "execution_count": 9,
     "metadata": {},
     "output_type": "execute_result"
    }
   ],
   "source": [
    "del df\n",
    "gc.collect()"
   ]
  },
  {
   "cell_type": "markdown",
   "metadata": {},
   "source": [
    "## Linear Regression"
   ]
  },
  {
   "cell_type": "code",
   "execution_count": 10,
   "metadata": {},
   "outputs": [
    {
     "data": {
      "text/html": [
       "<div>\n",
       "<style scoped>\n",
       "    .dataframe tbody tr th:only-of-type {\n",
       "        vertical-align: middle;\n",
       "    }\n",
       "\n",
       "    .dataframe tbody tr th {\n",
       "        vertical-align: top;\n",
       "    }\n",
       "\n",
       "    .dataframe thead th {\n",
       "        text-align: right;\n",
       "    }\n",
       "</style>\n",
       "<table border=\"1\" class=\"dataframe\">\n",
       "  <thead>\n",
       "    <tr style=\"text-align: right;\">\n",
       "      <th></th>\n",
       "      <th>housing_median_age</th>\n",
       "      <th>total_rooms</th>\n",
       "      <th>total_bedrooms</th>\n",
       "    </tr>\n",
       "  </thead>\n",
       "  <tbody>\n",
       "    <tr>\n",
       "      <th>8314</th>\n",
       "      <td>27.0</td>\n",
       "      <td>1675.0</td>\n",
       "      <td>521.0</td>\n",
       "    </tr>\n",
       "    <tr>\n",
       "      <th>8315</th>\n",
       "      <td>52.0</td>\n",
       "      <td>2359.0</td>\n",
       "      <td>591.0</td>\n",
       "    </tr>\n",
       "    <tr>\n",
       "      <th>8316</th>\n",
       "      <td>52.0</td>\n",
       "      <td>2127.0</td>\n",
       "      <td>512.0</td>\n",
       "    </tr>\n",
       "    <tr>\n",
       "      <th>8317</th>\n",
       "      <td>52.0</td>\n",
       "      <td>996.0</td>\n",
       "      <td>264.0</td>\n",
       "    </tr>\n",
       "    <tr>\n",
       "      <th>8318</th>\n",
       "      <td>29.0</td>\n",
       "      <td>716.0</td>\n",
       "      <td>214.0</td>\n",
       "    </tr>\n",
       "  </tbody>\n",
       "</table>\n",
       "</div>"
      ],
      "text/plain": [
       "      housing_median_age  total_rooms  total_bedrooms\n",
       "8314                27.0       1675.0           521.0\n",
       "8315                52.0       2359.0           591.0\n",
       "8316                52.0       2127.0           512.0\n",
       "8317                52.0        996.0           264.0\n",
       "8318                29.0        716.0           214.0"
      ]
     },
     "execution_count": 10,
     "metadata": {},
     "output_type": "execute_result"
    }
   ],
   "source": [
    "data_islands = data[data[\"ocean_proximity\"] == \"ISLAND\"]\n",
    "data_islands = data_islands[[\"housing_median_age\", \"total_rooms\", \"total_bedrooms\"]]\n",
    "data_islands.head()"
   ]
  },
  {
   "cell_type": "code",
   "execution_count": 11,
   "metadata": {},
   "outputs": [
    {
     "name": "stdout",
     "output_type": "stream",
     "text": [
      "[[  27. 1675.  521.]\n",
      " [  52. 2359.  591.]\n",
      " [  52. 2127.  512.]\n",
      " [  52.  996.  264.]\n",
      " [  29.  716.  214.]]\n"
     ]
    }
   ],
   "source": [
    "X = np.array(data_islands)\n",
    "print(X)"
   ]
  },
  {
   "cell_type": "code",
   "execution_count": 12,
   "metadata": {},
   "outputs": [
    {
     "name": "stdout",
     "output_type": "stream",
     "text": [
      "[[9.6820000e+03 3.5105300e+05 9.1357000e+04]\n",
      " [3.5105300e+05 1.4399307e+07 3.7720360e+06]\n",
      " [9.1357000e+04 3.7720360e+06 9.9835800e+05]]\n"
     ]
    }
   ],
   "source": [
    "XTX = np.dot(X.T, X)\n",
    "print(XTX)"
   ]
  },
  {
   "cell_type": "code",
   "execution_count": 13,
   "metadata": {},
   "outputs": [],
   "source": [
    "list_for_y = [950, 1300, 800, 1000, 1300]"
   ]
  },
  {
   "cell_type": "code",
   "execution_count": 14,
   "metadata": {},
   "outputs": [
    {
     "name": "stdout",
     "output_type": "stream",
     "text": [
      "[ 950 1300  800 1000 1300]\n"
     ]
    }
   ],
   "source": [
    "y = np.array(list_for_y)\n",
    "print(y)"
   ]
  },
  {
   "cell_type": "code",
   "execution_count": 15,
   "metadata": {},
   "outputs": [
    {
     "name": "stdout",
     "output_type": "stream",
     "text": [
      "[23.12330961 -1.48124183  5.69922946]\n"
     ]
    }
   ],
   "source": [
    "w = np.dot(np.dot(np.linalg.inv(XTX), X.T), y)\n",
    "print(w)"
   ]
  }
 ],
 "metadata": {
  "kernelspec": {
   "display_name": "Python 3",
   "language": "python",
   "name": "python3"
  },
  "language_info": {
   "codemirror_mode": {
    "name": "ipython",
    "version": 3
   },
   "file_extension": ".py",
   "mimetype": "text/x-python",
   "name": "python",
   "nbconvert_exporter": "python",
   "pygments_lexer": "ipython3",
   "version": "3.11.4"
  },
  "orig_nbformat": 4
 },
 "nbformat": 4,
 "nbformat_minor": 2
}
